{
 "cells": [
  {
   "cell_type": "code",
   "execution_count": 14,
   "id": "5707942d",
   "metadata": {},
   "outputs": [
    {
     "name": "stderr",
     "output_type": "stream",
     "text": [
      "[nltk_data] Downloading package omw-1.4 to\n",
      "[nltk_data]     C:\\Users\\Ram\\AppData\\Roaming\\nltk_data...\n",
      "[nltk_data]   Unzipping corpora\\omw-1.4.zip.\n"
     ]
    }
   ],
   "source": [
    "import numpy as np\n",
    "import nltk\n",
    "nltk.download('omw-1.4')\n",
    "import string\n",
    "import random"
   ]
  },
  {
   "cell_type": "code",
   "execution_count": 3,
   "id": "9caaba6c",
   "metadata": {},
   "outputs": [
    {
     "name": "stderr",
     "output_type": "stream",
     "text": [
      "[nltk_data] Downloading package punkt to\n",
      "[nltk_data]     C:\\Users\\Ram\\AppData\\Roaming\\nltk_data...\n",
      "[nltk_data]   Unzipping tokenizers\\punkt.zip.\n",
      "[nltk_data] Downloading package wordnet to\n",
      "[nltk_data]     C:\\Users\\Ram\\AppData\\Roaming\\nltk_data...\n",
      "[nltk_data]   Unzipping corpora\\wordnet.zip.\n"
     ]
    }
   ],
   "source": [
    "f=open('chatbot.txt','r',errors='ignore')\n",
    "raw_doc=f.read()\n",
    "raw_doc=raw_doc.lower() #convert text to lowercase\n",
    "nltk.download('punkt') #using the punkt tokenizer --- pre trained tokenizer which have the capability to build models around whats require and gives you an aanswer  \n",
    "nltk.download('wordnet') #using the wordnet dictionary\n",
    "sent_tokens = nltk.sent_tokenize(raw_doc) #convert doc to list of sentences\n",
    "word_tokens = nltk.word_tokenize(raw_doc) #convert doc to list of word\n"
   ]
  },
  {
   "cell_type": "code",
   "execution_count": 4,
   "id": "12e55b7d",
   "metadata": {},
   "outputs": [
    {
     "data": {
      "text/plain": [
       "['data science is an interdisciplinary field that uses scientific methods, processes, algorithms and systems to extract knowledge and insights from noisy, structured and unstructured data,[1][2] and apply knowledge and actionable insights from data across a broad range of application domains.',\n",
       " 'data science is related to data mining, machine learning and big data.']"
      ]
     },
     "execution_count": 4,
     "metadata": {},
     "output_type": "execute_result"
    }
   ],
   "source": [
    "sent_tokens[0:2] "
   ]
  },
  {
   "cell_type": "code",
   "execution_count": 5,
   "id": "33cf1ba0",
   "metadata": {},
   "outputs": [
    {
     "data": {
      "text/plain": [
       "['science']"
      ]
     },
     "execution_count": 5,
     "metadata": {},
     "output_type": "execute_result"
    }
   ],
   "source": [
    "word_tokens[1:2]"
   ]
  },
  {
   "cell_type": "code",
   "execution_count": 6,
   "id": "00197da5",
   "metadata": {},
   "outputs": [],
   "source": [
    "lemmer = nltk.stem.WordNetLemmatizer()\n",
    "#WordNet is a semtically-orinted  dictionary of English included in NLTK\n",
    "def LemTokens(tokens):\n",
    "  return[lemmer.lemmatize(tokens)for token in tokens ]\n",
    "remove_punct_dict=dict((ord(punct),None) for punct in string.punctuation)\n",
    "def LemNormalize(text):\n",
    "  return LemTokens(nltk.word_tokenize(text.lower().translate(remove_punct_dict)))"
   ]
  },
  {
   "cell_type": "code",
   "execution_count": 7,
   "id": "f82e4efe",
   "metadata": {},
   "outputs": [],
   "source": [
    "GREET_INPUT=(\"hello\",\"hey\",\"greetings\",\"hi\",\"what's up\",\"yo bro\")\n",
    "GREET_OUTPUT=(\"hi\",\"hey\",\"nods\",\"hi there\",\"hello\",\"hey!i am glad to talk to you\",\"yeah man \")\n",
    "def greet(sentence): #defing the function\n",
    "  for word in sentence.split():# for the sentence we are going to split\n",
    "    if word.lower()in GREET_INPUT:\n",
    "      return random.choice(GREET_OUTPUT)\n",
    "# if any of the word given by the user is present in the word_input any random output from greet_output wil be shown\n",
    "  \n"
   ]
  },
  {
   "cell_type": "code",
   "execution_count": 8,
   "id": "53ca921f",
   "metadata": {},
   "outputs": [],
   "source": [
    "from sklearn.feature_extraction.text import TfidfVectorizer\n",
    "from sklearn.metrics.pairwise import cosine_similarity"
   ]
  },
  {
   "cell_type": "code",
   "execution_count": 12,
   "id": "b86d935e",
   "metadata": {},
   "outputs": [],
   "source": [
    "def response (user_response): \n",
    "  robol_response=''\n",
    "  TfidVec = TfidfVectorizer(tokenizer=LemNormalize,stop_words='english')\n",
    "  tfidf = TfidVec.fit_transform(sent_tokens)\n",
    "  vals=cosine_similarity(tfidf[-1],tfidf)\n",
    "  idx=vals.argsort()[0][-2]\n",
    "  flat=vals.flatten()\n",
    "  flat.sort()\n",
    "  req_tfidf=flat[-2]\n",
    "  if(req_tfidf==0):\n",
    "    robo1_response= robo1_response+\"I am Sorry ! I dont understand you\"\n",
    "    return robo1_response\n",
    "  else:\n",
    "    robo1_response=robo1_response+sent_tokens[idx]\n",
    "    return robo1_response"
   ]
  },
  {
   "cell_type": "code",
   "execution_count": null,
   "id": "5ac4a1f0",
   "metadata": {},
   "outputs": [
    {
     "name": "stdout",
     "output_type": "stream",
     "text": [
      "Bot: My name is Jarvis.\n",
      "let's have  a conversation! Also, if you want to exit any time just type bye! \n"
     ]
    }
   ],
   "source": [
    "  flag=True\n",
    "  print(\"Bot: My name is Jarvis.\\nlet's have  a conversation! Also, if you want to exit any time just type bye! \")\n",
    "  while(flag==True):\n",
    "    user_response = input()\n",
    "    user_response = user_response.lower()\n",
    "    if(user_response!='bye'):\n",
    "      if(user_response=='thanks'or user_response=='thank you'):\n",
    "        flag=False\n",
    "        print(\"Bot: You are Welcome\")\n",
    "      else:\n",
    "        if(greet(user_response)!=None):\n",
    "          print(\"Bot: \"+greet(user_response))\n",
    "        else:\n",
    "          sent_tokens.append(user_response)\n",
    "          word_tokens=word_tokens+nltk.word_tokenize(user_response)\n",
    "          final_words=list(set(word_tokens))\n",
    "          print(\"Bot: \",end=\"\")\n",
    "          print(response(user_response))\n",
    "          sent_tokens.remove(user_response)\n",
    "    else:\n",
    "      flag=False\n",
    "      print(\"Bot: Goodbye! Take care <3\")"
   ]
  },
  {
   "cell_type": "code",
   "execution_count": null,
   "id": "af4c33a1",
   "metadata": {},
   "outputs": [],
   "source": []
  }
 ],
 "metadata": {
  "kernelspec": {
   "display_name": "Python 3 (ipykernel)",
   "language": "python",
   "name": "python3"
  },
  "language_info": {
   "codemirror_mode": {
    "name": "ipython",
    "version": 3
   },
   "file_extension": ".py",
   "mimetype": "text/x-python",
   "name": "python",
   "nbconvert_exporter": "python",
   "pygments_lexer": "ipython3",
   "version": "3.9.12"
  }
 },
 "nbformat": 4,
 "nbformat_minor": 5
}
